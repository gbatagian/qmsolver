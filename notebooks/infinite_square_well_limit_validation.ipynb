{
 "cells": [
  {
   "cell_type": "markdown",
   "id": "a7be02cb",
   "metadata": {},
   "source": [
    "# QMSolver: Infinite Square Well Limit Validation\n",
    "\n",
    "This notebook validates `FDSolver` accuracy by solving a finite square well with very large depth and comparing to analytical infinite square well solutions."
   ]
  },
  {
   "cell_type": "code",
   "execution_count": 1,
   "id": "f258357f",
   "metadata": {},
   "outputs": [],
   "source": [
    "import numpy as np\n",
    "from scipy import constants\n",
    "\n",
    "from qmsolver.tise import FDSolver\n",
    "from qmsolver.potentials import FiniteSquareWellPotential"
   ]
  },
  {
   "cell_type": "code",
   "execution_count": 2,
   "id": "2be451c9",
   "metadata": {},
   "outputs": [
    {
     "name": "stdout",
     "output_type": "stream",
     "text": [
      "Physical parameters:\n",
      "Well depth: 1e+12 eV = 1.60217663e-07 J\n",
      "Well width: 1.0 nm = 1.0e-09 m\n",
      "Spatial domain: [-3.0e-09, 3.0e-09] m\n"
     ]
    }
   ],
   "source": [
    "well_depth_ev = 1e12  # Very large well depth in electron volts\n",
    "well_width_nm = 1.0  # Well width in nanometers\n",
    "\n",
    "# Convert to SI units\n",
    "well_depth_joules = well_depth_ev * constants.e  # Joules\n",
    "well_width_meters = well_width_nm * 1e-9  # meters\n",
    "\n",
    "# Spatial domain in meters\n",
    "x_min_m = -3e-9\n",
    "x_max_m = 3e-9\n",
    "\n",
    "print(\"Physical parameters:\")\n",
    "print(f\"Well depth: {well_depth_ev:.0e} eV = {well_depth_joules:.8e} J\")\n",
    "print(f\"Well width: {well_width_nm} nm = {well_width_meters:.1e} m\")\n",
    "print(f\"Spatial domain: [{x_min_m:.1e}, {x_max_m:.1e}] m\")"
   ]
  },
  {
   "cell_type": "code",
   "execution_count": 3,
   "id": "2b464f27",
   "metadata": {},
   "outputs": [
    {
     "name": "stdout",
     "output_type": "stream",
     "text": [
      "****************************************\n",
      "\n",
      "-> 5 lowest energy states:\n",
      "\n",
      "      🔒   E(0)  = -1.60217663399939821925e-07  (bound)\n",
      "      🔒   E(1)  = -1.60217663399759350967e-07  (bound)\n",
      "      🔒   E(2)  = -1.60217663399458574862e-07  (bound)\n",
      "      🔒   E(3)  = -1.60217663399037493608e-07  (bound)\n",
      "      🔒   E(4)  = -1.60217663398496133676e-07  (bound)\n",
      "\n",
      "****************************************\n"
     ]
    }
   ],
   "source": [
    "solver = FDSolver(steps=4_000, x_min=x_min_m, x_max=x_max_m, n_lowest=5)\n",
    "\n",
    "# Set physical constants in SI units\n",
    "solver.h_bar = constants.hbar  # Reduced Planck's constant in J⋅s\n",
    "solver.m = constants.m_e  # Electron mass in kg\n",
    "\n",
    "potential = FiniteSquareWellPotential(\n",
    "    x_grid=solver.x_grid,\n",
    "    well_depth=well_depth_joules,\n",
    "    well_width=well_width_meters,\n",
    ")\n",
    "solver.potential_generator = potential\n",
    "\n",
    "solver.solve()\n",
    "solver.output()"
   ]
  },
  {
   "cell_type": "markdown",
   "id": "77bed146",
   "metadata": {},
   "source": [
    "# Analytical Infinite Square Well Energies\n",
    "\n",
    "The analytical energies for an infinite square well are given by:\n",
    "$$E_n = n^2 \\frac{\\hbar^2 \\pi^2}{2mL^2}$$\n",
    "\n",
    "where:\n",
    "- $n = 1, 2, 3, \\dots$ (quantum number)\n",
    "- $L$ is the well width\n",
    "- $\\hbar$ is the reduced Planck constant\n",
    "- $m$ is the particle mass"
   ]
  },
  {
   "cell_type": "code",
   "execution_count": 4,
   "id": "2f0feb60",
   "metadata": {},
   "outputs": [
    {
     "name": "stdout",
     "output_type": "stream",
     "text": [
      "\n",
      "Energies in electron volts:\n",
      "E(0) = 0.37548828 eV | E_ISW(0): 0.37603016 eV | Error: 0.14410569 %\n",
      "E(1) = 1.50195312 eV | E_ISW(1): 1.50412065 eV | Error: 0.14410569 %\n",
      "E(2) = 3.37927246 eV | E_ISW(2): 3.38427146 eV | Error: 0.14771268 %\n",
      "E(3) = 6.00744629 eV | E_ISW(3): 6.01648259 eV | Error: 0.15019248 %\n",
      "E(4) = 9.38635254 eV | E_ISW(4): 9.40075405 eV | Error: 0.15319530 %\n"
     ]
    }
   ],
   "source": [
    "E_lowest_ev = np.array(solver.E_lowest) / constants.e\n",
    "print(\"\\nEnergies in electron volts:\")\n",
    "for i, energy in enumerate(E_lowest_ev):\n",
    "    infinite_square_well_energy = (\n",
    "        (i + 1) ** 2\n",
    "        * constants.hbar**2\n",
    "        * np.pi**2\n",
    "        / (2 * solver.m * well_width_meters**2)\n",
    "    ) / constants.e\n",
    "\n",
    "    renormalized_energy = energy + well_depth_ev\n",
    "\n",
    "    error = (\n",
    "        100\n",
    "        * abs(renormalized_energy - infinite_square_well_energy)\n",
    "        / infinite_square_well_energy\n",
    "    )\n",
    "\n",
    "    print(\n",
    "        f\"E({i}) = {renormalized_energy:.8f} eV | E_ISW({i}): {infinite_square_well_energy:.8f} eV | Error: {error:.8f} %\"\n",
    "    )"
   ]
  },
  {
   "cell_type": "markdown",
   "id": "bc00cb5a",
   "metadata": {},
   "source": [
    "# Conclusion\n",
    "\n",
    "Based on the comparison of the `FDSolver` results with the analytical infinite square well solutions, the numerical method provides reliable results for bound state problems. In this case, the numerical results match the expected analytical values with an error of approximately 0.15% using a 4,000-step grid resolution. Higher grid resolution generally reduces the error, with 10,000 steps achieving errors below 0.1%.\n",
    "\n",
    "However, the very deep finite well is only an approximation to the infinite square well, which introduces additional errors beyond those from the numerical method itself. Therefore, the error rates reported here represent a conservative estimate of `FDSolver`'s accuracy. Nevertheless, this analysis demonstrates that `FDSolver` is a reliable tool for numerically solving bound state problems."
   ]
  }
 ],
 "metadata": {
  "kernelspec": {
   "display_name": ".venv",
   "language": "python",
   "name": "python3"
  },
  "language_info": {
   "codemirror_mode": {
    "name": "ipython",
    "version": 3
   },
   "file_extension": ".py",
   "mimetype": "text/x-python",
   "name": "python",
   "nbconvert_exporter": "python",
   "pygments_lexer": "ipython3",
   "version": "3.13.2"
  }
 },
 "nbformat": 4,
 "nbformat_minor": 5
}
